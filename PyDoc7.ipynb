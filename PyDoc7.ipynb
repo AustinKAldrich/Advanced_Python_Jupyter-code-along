{
 "cells": [
  {
   "cell_type": "markdown",
   "metadata": {},
   "source": [
    "# Algorithms, Binary Search & Linked Lists"
   ]
  },
  {
   "cell_type": "markdown",
   "metadata": {},
   "source": [
    "## Tasks Today:\n",
    " \n",
    "1) <b>In-Place Algorithms</b> <br>\n",
    " &nbsp;&nbsp;&nbsp;&nbsp; a) Syntax <br>\n",
    " &nbsp;&nbsp;&nbsp;&nbsp; a) Out of Place Algorithm <br>\n",
    " &nbsp;&nbsp;&nbsp;&nbsp; b) In-Class Exercise #1 <br>\n",
    "2) <b>Two Pointers</b> <br>\n",
    "3) <b>Linked Lists</b> <br>\n",
    "4) <b>Merge Sort</b> <br>\n",
    " &nbsp;&nbsp;&nbsp;&nbsp; a) Video on Algorithms <br>\n",
    " &nbsp;&nbsp;&nbsp;&nbsp; b) How it Works <br>\n",
    "5) <b>Exercises</b> <br>\n",
    " &nbsp;&nbsp;&nbsp;&nbsp; a) Exercise #1 - Reverse a List in Place Using an In-Place Algorithm <br>\n",
    " &nbsp;&nbsp;&nbsp;&nbsp; b) Exercise #2 - Find Distinct Words <br>\n",
    " &nbsp;&nbsp;&nbsp;&nbsp; c) Exercise #3 - Write a program to implement a Linear Search Algorithm. <br>"
   ]
  },
  {
   "cell_type": "markdown",
   "metadata": {},
   "source": [
    "## In-Place Algorithms"
   ]
  },
  {
   "cell_type": "markdown",
   "metadata": {},
   "source": [
    "#### Syntax"
   ]
  },
  {
   "cell_type": "code",
   "execution_count": 12,
   "metadata": {},
   "outputs": [
    {
     "name": "stdout",
     "output_type": "stream",
     "text": [
      "Before swap: [20, 4, 10]\n",
      "After swap: [4, 20, 10]\n"
     ]
    }
   ],
   "source": [
    "# syntax: var[i], var[i+1] = var[i+1], var[i]\n",
    "# sometimes known as a swap algorithm\n",
    "\n",
    "def swap(a_list, x, y, z):\n",
    "    a_list[x], a_list[y], a_list[z] = a_list[z], a_list[y], a_list[x]\n",
    "    return a_list\n",
    "\n",
    "my_list = [20, 4, 10]\n",
    "\n",
    "print(f'Before swap: {my_list}')\n",
    "\n",
    "#swap\n",
    "swap(my_list, 1, 2, 0)\n",
    "print(f'After swap: {my_list}')"
   ]
  },
  {
   "cell_type": "markdown",
   "metadata": {},
   "source": [
    "#### Out of Place Algorithm"
   ]
  },
  {
   "cell_type": "code",
   "execution_count": 15,
   "metadata": {},
   "outputs": [
    {
     "name": "stdout",
     "output_type": "stream",
     "text": [
      "Before ['a', 'b', 'c', 'd']\n",
      "After ['d', 'c', 'b', 'a']\n"
     ]
    }
   ],
   "source": [
    "#Not swapping, completely reversing, BUT also copies to another place in memory\n",
    "\n",
    "# my_list_copy = my_list[::-1]\n",
    "\n",
    "# print(my_list_copy)\n",
    "\n",
    "array = ['a', 'b', 'c', 'd']\n",
    "new_array = ['a'] * len(array)\n",
    "\n",
    "print(\"Before\", array)\n",
    "length = len(array) - 1\n",
    "\n",
    "for i in range(length):\n",
    "    new_array[i] = array[length-i]\n",
    "    \n",
    "array = new_array    \n",
    "print(\"After\", array)\n"
   ]
  },
  {
   "cell_type": "markdown",
   "metadata": {},
   "source": [
    "#### In-Class Exercise #1 <br>\n",
    "<p>Write a function that takes in four arguments (list, index1, index2, index3), and swaps those three positions in the list passed in.</p>"
   ]
  },
  {
   "cell_type": "code",
   "execution_count": 20,
   "metadata": {},
   "outputs": [
    {
     "name": "stdout",
     "output_type": "stream",
     "text": [
      "[10, 4, 3, 8, 4, 2, 6]\n",
      "[10, 8, 3, 2, 4, 4, 6]\n"
     ]
    }
   ],
   "source": [
    "list_1 = [10, 4, 3, 8, 4, 2, 6]\n",
    "\n",
    "def swapper(list1, x1, x2, x3):\n",
    "    list1[x1], list1[x2], list1[x3] = list1[x3], list1[x1], list1[x2]\n",
    "    return list1\n",
    "\n",
    "print(list_1)\n",
    "print(swapper(list_1, 1, 5, 3))"
   ]
  },
  {
   "cell_type": "markdown",
   "metadata": {},
   "source": [
    "## Two Pointers"
   ]
  },
  {
   "cell_type": "markdown",
   "metadata": {},
   "source": [
    "#### Syntax"
   ]
  },
  {
   "cell_type": "code",
   "execution_count": 22,
   "metadata": {},
   "outputs": [
    {
     "data": {
      "text/plain": [
       "[22, 11, 4, 8, 9, 12, 3, 2, 1]"
      ]
     },
     "execution_count": 22,
     "metadata": {},
     "output_type": "execute_result"
    }
   ],
   "source": [
    "# alist[left], alist[right] = alist[right], alist[left]\n",
    "def two_pointers(alist):\n",
    "    left = 0\n",
    "    right = len(alist) - 1\n",
    "    #set up a loop that works through our list and swaps things a pair at a time\n",
    "    while left <= right:\n",
    "        alist[left], alist[right] = alist[right], alist[left]\n",
    "        left += 1\n",
    "        right -= 1\n",
    "    return alist\n",
    "\n",
    "my_list2 = [1,2,3,12,9,8,4,11,22]\n",
    "\n",
    "two_pointers(my_list2)"
   ]
  },
  {
   "cell_type": "markdown",
   "metadata": {},
   "source": [
    "#### Video of Algorithms <br>\n",
    "<p>Watch the video about algorithms.</p>\n",
    "\n",
    "https://www.youtube.com/watch?v=Q9HjeFD62Uk\n",
    "\n",
    "https://www.youtube.com/watch?v=kPRA0W1kECg\n",
    "\n",
    "https://www.youtube.com/watch?v=ZZuD6iUe3Pc"
   ]
  },
  {
   "cell_type": "markdown",
   "metadata": {},
   "source": [
    "# Sorting Algorithms"
   ]
  },
  {
   "cell_type": "markdown",
   "metadata": {},
   "source": [
    "#### Bubble Sort\n",
    "\n",
    "Worst Case: O(n^2) Time - O(1) Space"
   ]
  },
  {
   "cell_type": "code",
   "execution_count": 23,
   "metadata": {},
   "outputs": [
    {
     "data": {
      "text/plain": [
       "[1, 22, 34, 44, 55, 66, 88, 100]"
      ]
     },
     "execution_count": 23,
     "metadata": {},
     "output_type": "execute_result"
    }
   ],
   "source": [
    "# Best case: 0(n) - linear\n",
    "def swap(i, j, array):\n",
    "    array[i], array[j] = array[j], array[i]\n",
    "    \n",
    "def bubble_sort(array):\n",
    "    is_sorted = False\n",
    "    while not is_sorted:\n",
    "        is_sorted = True\n",
    "        for num in range(len(array) - 1):\n",
    "            if array[num] > array[num+1]:\n",
    "                swap(num, num + 1, array)\n",
    "                is_sorted = False\n",
    "    return array\n",
    "bubble_sort([22, 55, 88, 44, 1, 100, 34, 66])"
   ]
  },
  {
   "cell_type": "markdown",
   "metadata": {},
   "source": [
    "##### Insertion Sort\n",
    "\n",
    "Worst Case: O(n^2) time - O(1)space"
   ]
  },
  {
   "cell_type": "code",
   "execution_count": 27,
   "metadata": {},
   "outputs": [
    {
     "data": {
      "text/plain": [
       "[1, 22, 34, 44, 55, 66, 88, 100]"
      ]
     },
     "execution_count": 27,
     "metadata": {},
     "output_type": "execute_result"
    }
   ],
   "source": [
    "def swap(i, j, array):\n",
    "    array[i], array[j] = array[j], array[i]\n",
    "    \n",
    "def insertion_sort(array):\n",
    "    for i in range(1, len(array)):\n",
    "        j = i\n",
    "        while j > 0 and array[j] < array[j-1]:\n",
    "            swap(j, j - 1, array)\n",
    "            j -= 1\n",
    "    return array\n",
    "\n",
    "insertion_sort([22, 55, 88, 44, 1, 100, 34, 66])"
   ]
  },
  {
   "cell_type": "markdown",
   "metadata": {},
   "source": [
    "## Merge Sort"
   ]
  },
  {
   "cell_type": "markdown",
   "metadata": {},
   "source": [
    "#### How it Works"
   ]
  },
  {
   "cell_type": "code",
   "execution_count": 31,
   "metadata": {},
   "outputs": [
    {
     "name": "stdout",
     "output_type": "stream",
     "text": [
      "Splitting...  [12, 19, 8, 5, 1]\n",
      "Splitting...  [12, 19]\n",
      "Splitting...  [12]\n",
      "Splitting...  [19]\n",
      "Merging...  [19, 19]\n",
      "Splitting...  [8, 5, 1]\n",
      "Splitting...  [8]\n",
      "Splitting...  [5, 1]\n",
      "Splitting...  [5]\n",
      "Splitting...  [1]\n",
      "Merging...  [5, 1]\n",
      "Merging...  [8, 5, 1]\n",
      "Merging...  [19, 19, 8, 5, 1]\n"
     ]
    },
    {
     "data": {
      "text/plain": [
       "[19, 19, 8, 5, 1]"
      ]
     },
     "execution_count": 31,
     "metadata": {},
     "output_type": "execute_result"
    }
   ],
   "source": [
    "# Step 1: split everything into its own group\n",
    "# Step 2: from left to right, merge two groups together\n",
    "# Step 3: While merging, place each item into the correct place within the merged group\n",
    "# Step 4: Continue steps 3-4 until only one group is left.\n",
    "\n",
    "from random import randint\n",
    "nums = [randint(0,20) for i in range(5)]\n",
    "\n",
    "def merge_sort(alist):\n",
    "    print(\"Splitting... \", alist)\n",
    "    \n",
    "#     Step 1: Divide the array into equal parts\n",
    "    if len(alist) > 1:\n",
    "        mid = len(alist) // 2\n",
    "        right_half = alist[mid:]\n",
    "        left_half = alist[:mid]\n",
    "        \n",
    "#         Recursively call merge_sort to perform splits if needed\n",
    "#         Then merge once the splits are done\n",
    "        merge_sort(left_half)\n",
    "        merge_sort(right_half)\n",
    "        \n",
    "#         Index pointers for our list\n",
    "        i = 0 # Pointer for our left half\n",
    "        j = 0 # Pointer for our right half\n",
    "        k = 0 #Pointer for our main array\n",
    "        \n",
    "#         Step 2: Compare the left half and the right half\n",
    "\n",
    "        while i < len(left_half) and j < len(right_half):\n",
    "            if left_half[i] < right_half[j]:\n",
    "                alist[k] = left_half[i]\n",
    "                i = i + 1\n",
    "            else:\n",
    "                alist[k] = right_half[j]\n",
    "                j = j + 1\n",
    "                \n",
    "#         Step 3: While merging place the items in the correct positions\n",
    "        while i < len(left_half):\n",
    "            alist[k] = left_half[i]\n",
    "            i = i + 1\n",
    "            k = k + 1\n",
    "        while j < len(right_half):\n",
    "            alist[k] = right_half[j]\n",
    "            j = j + 1\n",
    "            k = k + 1\n",
    "            \n",
    "        print(\"Merging... \", alist)\n",
    "        return alist\n",
    "    \n",
    "merge_sort(nums)\n",
    "    "
   ]
  },
  {
   "cell_type": "markdown",
   "metadata": {},
   "source": [
    "# Binary Search\n",
    "\n",
    "The Binary Search algorithm works by finding the number in the middle of a given array and comparing it to the target. Given that the array is sorted\n",
    "\n",
    "* The worst case run time for this algorithm is `O(log(n))`"
   ]
  },
  {
   "cell_type": "code",
   "execution_count": 33,
   "metadata": {},
   "outputs": [
    {
     "data": {
      "text/plain": [
       "'the index is... 5'"
      ]
     },
     "execution_count": 33,
     "metadata": {},
     "output_type": "execute_result"
    }
   ],
   "source": [
    "def binary_search_helper(array, target, left, right):\n",
    "    while left <= right:\n",
    "        middle = (left + right) // 2\n",
    "        potential_match = array[middle]\n",
    "        if target == potential_match:\n",
    "            return f'the index is... {middle}'\n",
    "        elif target < potential_match:\n",
    "            right = middle-1\n",
    "        else:\n",
    "            left = middle+1\n",
    "    return -1\n",
    "\n",
    "def binary_search(array, target):\n",
    "    return binary_search_helper(array, target, 0, len(array) - 1)\n",
    "\n",
    "binary_search([22,44,55,66,77,88,110],88)"
   ]
  },
  {
   "cell_type": "markdown",
   "metadata": {},
   "source": [
    "# Exercises"
   ]
  },
  {
   "cell_type": "markdown",
   "metadata": {},
   "source": [
    "### Exercise #1 <br>\n",
    "<p>Reverse the list below in-place using an in-place algorithm.<br>For extra credit: Reverse the strings at the same time.</p>"
   ]
  },
  {
   "cell_type": "code",
   "execution_count": 42,
   "metadata": {},
   "outputs": [
    {
     "name": "stdout",
     "output_type": "stream",
     "text": [
      "['.', 'sentence', 'a', 'is', 'this']\n"
     ]
    }
   ],
   "source": [
    "words = ['this' , 'is', 'a', 'sentence', '.']\n",
    "\n",
    "def reverse_list(array, v, w, x, y, z):\n",
    "    array[v], array[w], array[x], array[y], array[z] = array[z], array[y], array[x], array[w], array[v]\n",
    "    return array\n",
    "\n",
    "print(reverse(words, 0, 1, 2, 3, 4))\n",
    "    \n",
    "    "
   ]
  },
  {
   "cell_type": "markdown",
   "metadata": {},
   "source": [
    "### Exercise #2 <br>\n",
    "<p>Create a function that counts how many distinct words are in the string below, then outputs a dictionary with the words as the key and the value as the amount of times that word appears in the string.<br>Should output:<br>{'a': 5,<br>\n",
    " 'abstract': 1,<br>\n",
    " 'an': 3,<br>\n",
    " 'array': 2, ... etc...</p>"
   ]
  },
  {
   "cell_type": "code",
   "execution_count": 51,
   "metadata": {},
   "outputs": [
    {
     "data": {
      "text/plain": [
       "{'a': 5,\n",
       " 'abstract': 1,\n",
       " 'an': 3,\n",
       " 'array': 2,\n",
       " 'associative': 1,\n",
       " 'be': 1,\n",
       " 'buckets': 1,\n",
       " 'can': 2,\n",
       " 'compute': 1,\n",
       " 'computing,': 1,\n",
       " 'data': 2,\n",
       " 'desired': 1,\n",
       " 'found': 1,\n",
       " 'from': 1,\n",
       " 'function': 1,\n",
       " 'hash': 4,\n",
       " 'implements': 1,\n",
       " 'in': 1,\n",
       " 'index': 1,\n",
       " 'into': 1,\n",
       " 'is': 1,\n",
       " 'keys': 1,\n",
       " 'map': 2,\n",
       " 'of': 1,\n",
       " 'or': 1,\n",
       " 'slots': 1,\n",
       " 'structure': 2,\n",
       " 'table': 2,\n",
       " 'that': 1,\n",
       " 'the': 1,\n",
       " 'to': 2,\n",
       " 'type,': 1,\n",
       " 'uses': 1,\n",
       " 'value': 1,\n",
       " 'values.': 1,\n",
       " 'which': 2}"
      ]
     },
     "execution_count": 51,
     "metadata": {},
     "output_type": "execute_result"
    }
   ],
   "source": [
    "a_text = 'In computing, a hash table hash map is a data structure which implements an associative array abstract data type, a structure that can map keys to values. A hash table uses a hash function to compute an index into an array of buckets or slots from which the desired value can be found'\n",
    "\n",
    "def word_count(string):\n",
    "    word_list = sorted(string.lower().split())\n",
    "    \n",
    "    count_dict = {}\n",
    "    for word in word_list:\n",
    "        if word in count_dict:\n",
    "            count_dict[word] += 1\n",
    "        else:\n",
    "            count_dict[word] = 1\n",
    "    return count_dict\n",
    "    \n",
    "    \n",
    "word_count(a_text)\n",
    "    "
   ]
  },
  {
   "cell_type": "markdown",
   "metadata": {},
   "source": [
    "## Exercise #3\n",
    "\n",
    "Write a program to implement a Linear Search Algorithm. Also in a comment, write the Time Complexity of the following algorithm.\n",
    "\n",
    "#### Hint: Linear Searching will require searching a list for a given number. "
   ]
  },
  {
   "cell_type": "code",
   "execution_count": 54,
   "metadata": {},
   "outputs": [
    {
     "data": {
      "text/plain": [
       "9"
      ]
     },
     "execution_count": 54,
     "metadata": {},
     "output_type": "execute_result"
    }
   ],
   "source": [
    "def linear_search(array, target):\n",
    "    for i in range(len(array)-1):\n",
    "        if array[i] == target:\n",
    "            return i\n",
    "    return -1\n",
    "\n",
    "\n",
    "linear_search([22,33,44,55,66,77,88,99,110,121,132,143,154,165,176], 121)\n",
    "\n",
    "# Time Complexity is O(N) where N is the length of the list"
   ]
  },
  {
   "cell_type": "code",
   "execution_count": null,
   "metadata": {},
   "outputs": [],
   "source": []
  }
 ],
 "metadata": {
  "kernelspec": {
   "display_name": "Python 3 (ipykernel)",
   "language": "python",
   "name": "python3"
  },
  "language_info": {
   "codemirror_mode": {
    "name": "ipython",
    "version": 3
   },
   "file_extension": ".py",
   "mimetype": "text/x-python",
   "name": "python",
   "nbconvert_exporter": "python",
   "pygments_lexer": "ipython3",
   "version": "3.9.13"
  }
 },
 "nbformat": 4,
 "nbformat_minor": 2
}
